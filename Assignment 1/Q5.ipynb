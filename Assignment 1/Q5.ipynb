{
 "cells": [
  {
   "cell_type": "code",
   "execution_count": 1,
   "id": "c9d131fb",
   "metadata": {},
   "outputs": [],
   "source": [
    "import pandas as pd\n",
    "import numpy as np\n",
    "from sklearn.model_selection import train_test_split\n",
    "import matplotlib.pyplot as plt\n",
    "\n",
    "from sklearn.naive_bayes import GaussianNB\n",
    "from sklearn.metrics import accuracy_score\n",
    "from sklearn.metrics import classification_report\n",
    "\n",
    "import matplotlib.pyplot as plt\n",
    "from sklearn.datasets import make_classification\n",
    "from sklearn.metrics import plot_confusion_matrix\n",
    "from sklearn.metrics import confusion_matrix\n",
    "from sklearn.model_selection import train_test_split\n",
    "from sklearn.svm import SVC\n"
   ]
  },
  {
   "cell_type": "code",
   "execution_count": 2,
   "id": "4d79f0a3",
   "metadata": {},
   "outputs": [
    {
     "name": "stdout",
     "output_type": "stream",
     "text": [
      "Requirement already satisfied: tqdm in /Library/Frameworks/Python.framework/Versions/3.10/lib/python3.10/site-packages (4.64.1)\r\n"
     ]
    }
   ],
   "source": [
    "!pip3 install tqdm\n",
    "from tqdm import tqdm"
   ]
  },
  {
   "cell_type": "code",
   "execution_count": 3,
   "id": "663ad1be",
   "metadata": {},
   "outputs": [
    {
     "name": "stdout",
     "output_type": "stream",
     "text": [
      "<class 'pandas.core.frame.DataFrame'>\n",
      "RangeIndex: 569 entries, 0 to 568\n",
      "Data columns (total 6 columns):\n",
      " #   Column           Non-Null Count  Dtype  \n",
      "---  ------           --------------  -----  \n",
      " 0   mean_radius      569 non-null    float64\n",
      " 1   mean_texture     569 non-null    float64\n",
      " 2   mean_perimeter   569 non-null    float64\n",
      " 3   mean_area        569 non-null    float64\n",
      " 4   mean_smoothness  569 non-null    float64\n",
      " 5   diagnosis        569 non-null    int64  \n",
      "dtypes: float64(5), int64(1)\n",
      "memory usage: 26.8 KB\n"
     ]
    }
   ],
   "source": [
    "df = pd.read_csv('Breast_cancer_data.csv')\n",
    "df.info()"
   ]
  },
  {
   "cell_type": "code",
   "execution_count": 4,
   "id": "8c6e02ce",
   "metadata": {},
   "outputs": [],
   "source": [
    "X = df.drop(['diagnosis'],axis=1)\n",
    "Y = df['diagnosis']"
   ]
  },
  {
   "cell_type": "code",
   "execution_count": 5,
   "id": "c692b6df",
   "metadata": {},
   "outputs": [],
   "source": [
    "x_train,x_test,y_train,y_test = train_test_split(X,Y,test_size=0.2)"
   ]
  },
  {
   "cell_type": "code",
   "execution_count": 6,
   "id": "1055f3c4",
   "metadata": {},
   "outputs": [],
   "source": [
    "x_train = x_train.reset_index(drop=True)\n",
    "x_test  = x_test.reset_index(drop=True )\n",
    "y_train = pd.DataFrame(y_train.reset_index(drop=True ))\n",
    "y_test  = pd.DataFrame(y_test.reset_index(drop=True ))"
   ]
  },
  {
   "cell_type": "code",
   "execution_count": 7,
   "id": "782abae7",
   "metadata": {},
   "outputs": [],
   "source": [
    "class Naive_Bayes_classifier(object):\n",
    "    \n",
    "    def __init__(self):    \n",
    "        pass\n",
    "    \n",
    "    def fit(self, X, Y):\n",
    "        \n",
    "        \n",
    "        self.labels, y_counts = np.unique(Y, return_counts=True)\n",
    "        self.mu =  np.zeros((len(self.labels), X.shape[1]))\n",
    "        self.var = np.zeros((len(self.labels), X.shape[1]))\n",
    "        self.prior =  np.zeros((len(self.labels)))\n",
    "        \n",
    "        for label in tqdm(range(len(self.labels))):\n",
    "            \n",
    "            self.prior = 1.0 * y_counts/y_counts.sum() #prior for each class\n",
    "            separated = X.iloc[Y.index[Y.iloc[:,0] == label].tolist()] #groupby class\n",
    "            self.mu[label] = separated.mean(axis = 0) #mean for each class\n",
    "            self.var[label] =  np.var(separated, axis = 0) #variance for each class\n",
    "\n",
    "        return \n",
    "            \n",
    "        \n",
    "            \n",
    "    def score(self, Y, Predicted):\n",
    "        return np.mean(Predicted = Y)\n",
    "\n",
    "    def predict(self, X):\n",
    "        \n",
    "        #likelihood * Prior\n",
    "        P_X_Given_Class = np.zeros((X.shape[0], len(self.labels)))\n",
    "        prediction = np.zeros((X.shape[0]))\n",
    "        \n",
    "        for i in tqdm(range(len(X))):\n",
    "            for label in range(len(self.labels)):\n",
    "                \n",
    "                #likelihood: P(x|c)\n",
    "                c = 1.0 /np.sqrt(2.0 * np.pi * (self.var[label] ))\n",
    "                probs = np.prod(c * np.exp(-1.0 * np.square(np.subtract(X.iloc[i] ,self.mu[label])) / (2.0 * self.var[label] )))\n",
    "                likelihood = np.prod(c * probs)\n",
    "                \n",
    "                #likelihood*Prior: P(x|c)P(c)\n",
    "                P_X_Given_Class[i, label] = likelihood * self.prior[label]\n",
    "                \n",
    "             #Argmax over P(x|c)P(c)\n",
    "            prediction[i] = np.argmax(P_X_Given_Class[i],  axis=0)\n",
    "        return prediction\n",
    "    "
   ]
  },
  {
   "cell_type": "code",
   "execution_count": 8,
   "id": "d38378ee",
   "metadata": {},
   "outputs": [
    {
     "name": "stderr",
     "output_type": "stream",
     "text": [
      "100%|████████████████████████████████████████████| 2/2 [00:00<00:00, 686.07it/s]\n"
     ]
    }
   ],
   "source": [
    "model = Naive_Bayes_classifier()\n",
    "model.fit(x_train , y_train )"
   ]
  },
  {
   "cell_type": "code",
   "execution_count": 9,
   "id": "8eb4b15b",
   "metadata": {},
   "outputs": [
    {
     "name": "stderr",
     "output_type": "stream",
     "text": [
      "100%|███████████████████████████████████████| 114/114 [00:00<00:00, 2457.79it/s]"
     ]
    },
    {
     "name": "stdout",
     "output_type": "stream",
     "text": [
      "              precision    recall  f1-score   support\n",
      "\n",
      "           0       0.96      0.84      0.90        51\n",
      "           1       0.88      0.97      0.92        63\n",
      "\n",
      "    accuracy                           0.91       114\n",
      "   macro avg       0.92      0.91      0.91       114\n",
      "weighted avg       0.92      0.91      0.91       114\n",
      "\n",
      "confusion_matrix : \n",
      " [[43  8]\n",
      " [ 2 61]]\n",
      "accuracy :  91.22807017543859\n"
     ]
    },
    {
     "name": "stderr",
     "output_type": "stream",
     "text": [
      "\n"
     ]
    }
   ],
   "source": [
    "predicted = model.predict(x_test)\n",
    "print(classification_report(y_test, predicted))\n",
    "print('confusion_matrix : \\n' ,confusion_matrix(y_test, predicted))\n",
    "print('accuracy : ', (np.mean(predicted == y_test.to_numpy().ravel()))*100)"
   ]
  },
  {
   "cell_type": "code",
   "execution_count": 10,
   "id": "f87eb763",
   "metadata": {},
   "outputs": [
    {
     "data": {
      "image/png": "[encoded data removed]",
      "text/plain": [
       "<Figure size 640x480 with 2 Axes>"
      ]
     },
     "metadata": {},
     "output_type": "display_data"
    }
   ],
   "source": [
    "import matplotlib.pyplot as plt\n",
    "from sklearn.datasets import make_classification\n",
    "from sklearn.metrics import confusion_matrix, ConfusionMatrixDisplay\n",
    "from sklearn.model_selection import train_test_split\n",
    "from sklearn.svm import SVC\n",
    "\n",
    "cm = confusion_matrix(y_test, predicted, labels=model.labels)\n",
    "disp = ConfusionMatrixDisplay(confusion_matrix=cm,display_labels=model.labels)\n",
    "disp.plot()\n",
    "plt.savefig('c1.png')\n",
    "plt.show()"
   ]
  },
  {
   "cell_type": "code",
   "execution_count": 11,
   "id": "bd1d65b6",
   "metadata": {},
   "outputs": [
    {
     "name": "stderr",
     "output_type": "stream",
     "text": [
      "/Library/Frameworks/Python.framework/Versions/3.10/lib/python3.10/site-packages/sklearn/utils/validation.py:1111: DataConversionWarning: A column-vector y was passed when a 1d array was expected. Please change the shape of y to (n_samples, ), for example using ravel().\n",
      "  y = column_or_1d(y, warn=True)\n"
     ]
    },
    {
     "name": "stdout",
     "output_type": "stream",
     "text": [
      "Accuracy :  90.35087719298247 %\n"
     ]
    }
   ],
   "source": [
    "model = GaussianNB()\n",
    "model.fit(x_train, y_train)\n",
    "predicted = model.predict(x_test)\n",
    "\n",
    "print(\"Accuracy : \",accuracy_score(y_test.to_numpy(), predicted)*100, '%')\n",
    "# print(\"\")\n",
    "# print(\"Other Metrics : \", classification_report(y_test, predicted, labels=range(0,10)))"
   ]
  },
  {
   "cell_type": "code",
   "execution_count": 12,
   "id": "723667e9",
   "metadata": {},
   "outputs": [
    {
     "name": "stdout",
     "output_type": "stream",
     "text": [
      "              precision    recall  f1-score   support\n",
      "\n",
      "           0       0.95      0.82      0.88        51\n",
      "           1       0.87      0.97      0.92        63\n",
      "\n",
      "    accuracy                           0.90       114\n",
      "   macro avg       0.91      0.90      0.90       114\n",
      "weighted avg       0.91      0.90      0.90       114\n",
      "\n",
      "confusion_matrix : \n",
      " [[42  9]\n",
      " [ 2 61]]\n",
      "accuracy is 0.9035087719298246\n"
     ]
    }
   ],
   "source": [
    "print(classification_report(y_test, predicted))\n",
    "print('confusion_matrix : \\n' ,confusion_matrix(y_test, predicted))\n",
    "# Accuracy score\n",
    "from sklearn.metrics import accuracy_score\n",
    "print('accuracy is',accuracy_score(predicted,y_test))"
   ]
  },
  {
   "cell_type": "code",
   "execution_count": 13,
   "id": "a26bbddf",
   "metadata": {},
   "outputs": [
    {
     "name": "stderr",
     "output_type": "stream",
     "text": [
      "/Library/Frameworks/Python.framework/Versions/3.10/lib/python3.10/site-packages/sklearn/utils/deprecation.py:87: FutureWarning: Function plot_confusion_matrix is deprecated; Function `plot_confusion_matrix` is deprecated in 1.0 and will be removed in 1.2. Use one of the class methods: ConfusionMatrixDisplay.from_predictions or ConfusionMatrixDisplay.from_estimator.\n",
      "  warnings.warn(msg, category=FutureWarning)\n"
     ]
    },
    {
     "data": {
      "image/png": "[encoded data removed]",
      "text/plain": [
       "<Figure size 640x480 with 2 Axes>"
      ]
     },
     "metadata": {},
     "output_type": "display_data"
    }
   ],
   "source": [
    "plot_confusion_matrix(model, x_test, y_test)  \n",
    "plt.savefig('c2.png')\n",
    "plt.show()"
   ]
  },
  {
   "cell_type": "code",
   "execution_count": null,
   "id": "d9498fc7",
   "metadata": {},
   "outputs": [],
   "source": []
  }
 ],
 "metadata": {
  "kernelspec": {
   "display_name": "Python 3 (ipykernel)",
   "language": "python",
   "name": "python3"
  },
  "language_info": {
   "codemirror_mode": {
    "name": "ipython",
    "version": 3
   },
   "file_extension": ".py",
   "mimetype": "text/x-python",
   "name": "python",
   "nbconvert_exporter": "python",
   "pygments_lexer": "ipython3",
   "version": "3.10.6"
  }
 },
 "nbformat": 4,
 "nbformat_minor": 5
}
