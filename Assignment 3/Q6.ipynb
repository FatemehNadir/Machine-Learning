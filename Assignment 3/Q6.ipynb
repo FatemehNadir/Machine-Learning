{
 "cells": [
  {
   "cell_type": "markdown",
   "metadata": {
    "id": "DX9gG40MyKf7"
   },
   "source": [
    "Loading dataset:"
   ]
  },
  {
   "cell_type": "code",
   "execution_count": 3,
   "metadata": {
    "colab": {
     "base_uri": "https://localhost:8080/"
    },
    "id": "L8eQvo0uxB7K",
    "outputId": "00ed9cee-4719-4d8c-ea5e-d36f952a4ea3"
   },
   "outputs": [
    {
     "name": "stdout",
     "output_type": "stream",
     "text": [
      "Downloading data from https://www.cs.toronto.edu/~kriz/cifar-10-python.tar.gz\n",
      "170498071/170498071 [==============================] - 2s 0us/step\n"
     ]
    }
   ],
   "source": [
    "import numpy as np\n",
    "\n",
    "from keras.datasets import cifar10\n",
    "from keras.utils.np_utils import to_categorical   \n",
    "\n",
    "\n",
    "(X_train, y_train), (X_test, y_test) = cifar10.load_data()"
   ]
  },
  {
   "cell_type": "markdown",
   "metadata": {
    "id": "kSsDTAgsyd1H"
   },
   "source": [
    "Dimensions of Data - tarin and test are:"
   ]
  },
  {
   "cell_type": "code",
   "execution_count": 4,
   "metadata": {
    "colab": {
     "base_uri": "https://localhost:8080/"
    },
    "id": "QcCoKqOfycbi",
    "outputId": "4dd6ec2b-7358-4e60-e0a4-b7b1ede0382b"
   },
   "outputs": [
    {
     "name": "stdout",
     "output_type": "stream",
     "text": [
      "Shape of training data: (50000, 32, 32, 3)\n",
      "Shape of test data: (10000, 32, 32, 3)\n"
     ]
    }
   ],
   "source": [
    "print(\"Shape of training data:\",X_train.shape)\n",
    "print(\"Shape of test data:\",X_test.shape)"
   ]
  },
  {
   "cell_type": "markdown",
   "metadata": {
    "id": "gvWqW9Ie05yJ"
   },
   "source": [
    "(Width, height, and RGB) are the components of the images."
   ]
  },
  {
   "cell_type": "markdown",
   "metadata": {
    "id": "BOBZzHtR1a6A"
   },
   "source": [
    "Preparing the dataset"
   ]
  },
  {
   "cell_type": "code",
   "execution_count": 5,
   "metadata": {
    "id": "9dBf3rORxKpY"
   },
   "outputs": [],
   "source": [
    "y_train = to_categorical(y_train, num_classes=10)\n",
    "y_test = to_categorical(y_test, num_classes=10)\n",
    "X_train = X_train.astype('float32')\n",
    "X_test = X_test.astype('float32')\n",
    "X_train /= 255\n",
    "X_test /= 255"
   ]
  },
  {
   "cell_type": "markdown",
   "metadata": {
    "id": "ilDTTFF82BnF"
   },
   "source": [
    "Creating CNN model"
   ]
  },
  {
   "cell_type": "code",
   "execution_count": 6,
   "metadata": {
    "colab": {
     "base_uri": "https://localhost:8080/"
    },
    "id": "9wCCWadE1hTg",
    "outputId": "b474e138-d222-4bd3-a14f-2811b8ee614d"
   },
   "outputs": [
    {
     "name": "stderr",
     "output_type": "stream",
     "text": [
      "/usr/local/lib/python3.8/dist-packages/keras/optimizers/optimizer_v2/gradient_descent.py:108: UserWarning: The `lr` argument is deprecated, use `learning_rate` instead.\n",
      "  super(SGD, self).__init__(name, **kwargs)\n"
     ]
    }
   ],
   "source": [
    "from keras.layers import Dense, Flatten\n",
    "from keras.layers import Conv2D, MaxPooling2D\n",
    "from keras.models import Sequential\n",
    "from keras.optimizers import SGD, Adam\n",
    "\n",
    "# define cnn model\n",
    "model = Sequential()\n",
    "\n",
    "model.add(Conv2D(32, (3, 3), activation='relu', input_shape=(32, 32, 3)))\n",
    "model.add(Conv2D(32, (3, 3), activation='relu'))\n",
    "model.add(MaxPooling2D(pool_size=(2, 2)))\n",
    "\n",
    "model.add(Flatten())\n",
    "model.add(Dense(256, activation='relu'))\n",
    "model.add(Dense(10, activation='softmax'))\n",
    "\n",
    "sgd = SGD(lr=0.01, decay=1e-6, momentum=0.9, nesterov=True)\n",
    "model.compile(loss='categorical_crossentropy', metrics=['accuracy'], optimizer=sgd)"
   ]
  },
  {
   "cell_type": "markdown",
   "metadata": {
    "id": "6gwcdCf62b8Z"
   },
   "source": [
    "Training the CNN"
   ]
  },
  {
   "cell_type": "code",
   "execution_count": 8,
   "metadata": {
    "colab": {
     "base_uri": "https://localhost:8080/"
    },
    "id": "hOMNTng12GTg",
    "outputId": "750dd6eb-441d-4f27-b992-27636327c81a"
   },
   "outputs": [
    {
     "name": "stdout",
     "output_type": "stream",
     "text": [
      "Epoch 1/15\n",
      "1250/1250 - 100s - loss: 1.5253 - accuracy: 0.4508 - val_loss: 1.2446 - val_accuracy: 0.5538 - 100s/epoch - 80ms/step\n",
      "Epoch 2/15\n",
      "1250/1250 - 98s - loss: 1.0944 - accuracy: 0.6093 - val_loss: 1.0293 - val_accuracy: 0.6409 - 98s/epoch - 79ms/step\n",
      "Epoch 3/15\n",
      "1250/1250 - 98s - loss: 0.8494 - accuracy: 0.6997 - val_loss: 0.9944 - val_accuracy: 0.6606 - 98s/epoch - 78ms/step\n",
      "Epoch 4/15\n",
      "1250/1250 - 98s - loss: 0.6390 - accuracy: 0.7749 - val_loss: 1.0232 - val_accuracy: 0.6672 - 98s/epoch - 78ms/step\n",
      "Epoch 5/15\n",
      "1250/1250 - 98s - loss: 0.4394 - accuracy: 0.8468 - val_loss: 1.1233 - val_accuracy: 0.6678 - 98s/epoch - 78ms/step\n",
      "Epoch 6/15\n",
      "1250/1250 - 98s - loss: 0.2801 - accuracy: 0.9027 - val_loss: 1.3425 - val_accuracy: 0.6651 - 98s/epoch - 78ms/step\n",
      "Epoch 7/15\n",
      "1250/1250 - 98s - loss: 0.1929 - accuracy: 0.9339 - val_loss: 1.6645 - val_accuracy: 0.6601 - 98s/epoch - 78ms/step\n",
      "Epoch 8/15\n",
      "1250/1250 - 98s - loss: 0.1473 - accuracy: 0.9502 - val_loss: 1.7749 - val_accuracy: 0.6552 - 98s/epoch - 78ms/step\n",
      "Epoch 9/15\n",
      "1250/1250 - 97s - loss: 0.1241 - accuracy: 0.9570 - val_loss: 1.9779 - val_accuracy: 0.6483 - 97s/epoch - 78ms/step\n",
      "Epoch 10/15\n",
      "1250/1250 - 97s - loss: 0.0924 - accuracy: 0.9696 - val_loss: 2.0520 - val_accuracy: 0.6553 - 97s/epoch - 78ms/step\n",
      "Epoch 11/15\n",
      "1250/1250 - 97s - loss: 0.0922 - accuracy: 0.9690 - val_loss: 2.2850 - val_accuracy: 0.6456 - 97s/epoch - 78ms/step\n",
      "Epoch 12/15\n",
      "1250/1250 - 97s - loss: 0.0944 - accuracy: 0.9683 - val_loss: 2.2541 - val_accuracy: 0.6594 - 97s/epoch - 78ms/step\n",
      "Epoch 13/15\n",
      "1250/1250 - 97s - loss: 0.0755 - accuracy: 0.9747 - val_loss: 2.4272 - val_accuracy: 0.6579 - 97s/epoch - 78ms/step\n",
      "Epoch 14/15\n",
      "1250/1250 - 97s - loss: 0.0743 - accuracy: 0.9754 - val_loss: 2.6177 - val_accuracy: 0.6507 - 97s/epoch - 78ms/step\n",
      "Epoch 15/15\n",
      "1250/1250 - 97s - loss: 0.0720 - accuracy: 0.9770 - val_loss: 2.6671 - val_accuracy: 0.6517 - 97s/epoch - 78ms/step\n"
     ]
    }
   ],
   "source": [
    "history = model.fit(X_train, y_train, batch_size=32, \\\n",
    "                    epochs=15, verbose=2, validation_split=0.2)"
   ]
  },
  {
   "cell_type": "code",
   "execution_count": 14,
   "metadata": {
    "colab": {
     "base_uri": "https://localhost:8080/"
    },
    "id": "_GZJ7Fm1Faec",
    "outputId": "f1efb223-a043-47cc-e788-bff10ae8c3ff"
   },
   "outputs": [
    {
     "name": "stdout",
     "output_type": "stream",
     "text": [
      "Model: \"sequential\"\n",
      "_________________________________________________________________\n",
      " Layer (type)                Output Shape              Param #   \n",
      "=================================================================\n",
      " conv2d (Conv2D)             (None, 30, 30, 32)        896       \n",
      "                                                                 \n",
      " conv2d_1 (Conv2D)           (None, 28, 28, 32)        9248      \n",
      "                                                                 \n",
      " max_pooling2d (MaxPooling2D  (None, 14, 14, 32)       0         \n",
      " )                                                               \n",
      "                                                                 \n",
      " flatten (Flatten)           (None, 6272)              0         \n",
      "                                                                 \n",
      " dense (Dense)               (None, 256)               1605888   \n",
      "                                                                 \n",
      " dense_1 (Dense)             (None, 10)                2570      \n",
      "                                                                 \n",
      "=================================================================\n",
      "Total params: 1,618,602\n",
      "Trainable params: 1,618,602\n",
      "Non-trainable params: 0\n",
      "_________________________________________________________________\n"
     ]
    }
   ],
   "source": [
    "model.summary()"
   ]
  },
  {
   "cell_type": "code",
   "execution_count": 9,
   "metadata": {
    "id": "AaNb8nTIkC_o"
   },
   "outputs": [],
   "source": [
    "def plotLosses(history):  \n",
    "    plt.plot(history.history['loss'])\n",
    "    plt.plot(history.history['val_loss'])\n",
    "    plt.title('model loss')\n",
    "    plt.ylabel('loss')\n",
    "    plt.xlabel('epoch')\n",
    "    plt.legend(['train', 'validation'], loc='upper left')\n",
    "    plt.show()"
   ]
  },
  {
   "cell_type": "code",
   "execution_count": 10,
   "metadata": {
    "id": "rbst9gU8kIZt"
   },
   "outputs": [],
   "source": [
    "import matplotlib.pyplot as plt"
   ]
  },
  {
   "cell_type": "code",
   "execution_count": 11,
   "metadata": {
    "colab": {
     "base_uri": "https://localhost:8080/",
     "height": 295
    },
    "id": "MkB_2bhe2gnC",
    "outputId": "48f83227-23c2-40d4-c843-6f2e2cc26958"
   },
   "outputs": [
    {
     "data": {
      "image/png": "[encoded data removed]",
      "text/plain": [
       "<Figure size 432x288 with 1 Axes>"
      ]
     },
     "metadata": {
      "needs_background": "light"
     },
     "output_type": "display_data"
    }
   ],
   "source": [
    "plotLosses(history)\n"
   ]
  },
  {
   "cell_type": "markdown",
   "metadata": {
    "id": "1cBgje772wz4"
   },
   "source": [
    "Evaluating the CNN"
   ]
  },
  {
   "cell_type": "code",
   "execution_count": 12,
   "metadata": {
    "id": "YcNkFgzt2rZ2"
   },
   "outputs": [],
   "source": [
    "score = model.evaluate(X_test, y_test, batch_size=128, verbose=0)"
   ]
  },
  {
   "cell_type": "code",
   "execution_count": 13,
   "metadata": {
    "colab": {
     "base_uri": "https://localhost:8080/"
    },
    "id": "vLQ-5HYx2rXi",
    "outputId": "06ddfbf5-7e7b-42ae-bb60-a6c62fa864bf"
   },
   "outputs": [
    {
     "name": "stdout",
     "output_type": "stream",
     "text": [
      "['loss', 'accuracy']\n",
      "[2.6223580837249756, 0.6488000154495239]\n"
     ]
    }
   ],
   "source": [
    "print(model.metrics_names)\n",
    "print(score)"
   ]
  },
  {
   "cell_type": "markdown",
   "metadata": {
    "id": "7S4P3t7IMqCl"
   },
   "source": [
    "<div style=\"direction:rtl\"> \n",
    "\n",
    "    همانطور که مشاهده می‌شود دولایه برای این مدل استفاده شده است.\n",
    "    ۳۲ فیلتر به این علت که تصاویر ۳۲ در ۳۲ هستند و سایز کرنل را هم ۳ در نظر گرفتیم به علت\n",
    "    رنگی بودن آن RGB.\n",
    "    \n",
    "    ReLU activation function\n",
    "\n",
    "    از این معماری استفاده شده است\n",
    "    چرا که بسیار نزدیک به VGG است و می‌دانیم این معماری برای تصاویر با رزولوشن پایین و زمانی که رنگ داریم بسیار خوب جواب می‌دهد.\n",
    "\n",
    "\n",
    "\n",
    "</div>"
   ]
  },
  {
   "cell_type": "code",
   "execution_count": 10,
   "metadata": {
    "id": "a6MK6SeJ2rUp"
   },
   "outputs": [],
   "source": []
  },
  {
   "cell_type": "code",
   "execution_count": 10,
   "metadata": {
    "id": "43VK6I182rQm"
   },
   "outputs": [],
   "source": []
  }
 ],
 "metadata": {
  "colab": {
   "provenance": []
  },
  "kernelspec": {
   "display_name": "Python 3 (ipykernel)",
   "language": "python",
   "name": "python3"
  },
  "language_info": {
   "codemirror_mode": {
    "name": "ipython",
    "version": 3
   },
   "file_extension": ".py",
   "mimetype": "text/x-python",
   "name": "python",
   "nbconvert_exporter": "python",
   "pygments_lexer": "ipython3",
   "version": "3.10.6"
  }
 },
 "nbformat": 4,
 "nbformat_minor": 1
}
